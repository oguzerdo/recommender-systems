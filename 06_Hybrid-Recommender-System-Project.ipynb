{
 "cells": [
  {
   "cell_type": "markdown",
   "metadata": {},
   "source": [
    "![Project](https://github.com/oguzerdo/recommender-systems/blob/main/images/project.png?raw=true)\n",
    "# Business Problem\n",
    "\n",
    "For the user whose ID is given, it is desired to make 10 movie recommendations using item-based and user-based recommender methods"
   ]
  },
  {
   "cell_type": "code",
   "execution_count": 2,
   "metadata": {},
   "outputs": [],
   "source": [
    "import pandas as pd\n",
    "pd.set_option('display.max_columns', None)\n",
    "pd.set_option('display.width', 500)\n",
    "pd.set_option('display.expand_frame_repr', False)"
   ]
  },
  {
   "cell_type": "markdown",
   "metadata": {},
   "source": [
    "# Section I - Data Preparation\n",
    "\n",
    "### Step #1\n",
    "Read Data"
   ]
  },
  {
   "cell_type": "code",
   "execution_count": 3,
   "metadata": {},
   "outputs": [],
   "source": [
    "movie = pd.read_csv('datasets/movie_lens_dataset/movie.csv')\n",
    "rating = pd.read_csv('datasets/movie_lens_dataset/rating.csv')"
   ]
  },
  {
   "cell_type": "markdown",
   "metadata": {},
   "source": [
    "### Step #2 \n",
    "Merge data"
   ]
  },
  {
   "cell_type": "code",
   "execution_count": 4,
   "metadata": {},
   "outputs": [],
   "source": [
    "df = movie.merge(rating, how=\"left\", on=\"movieId\")"
   ]
  },
  {
   "cell_type": "markdown",
   "metadata": {},
   "source": [
    "### Step #3\n",
    "Drop rare movies"
   ]
  },
  {
   "cell_type": "code",
   "execution_count": 41,
   "metadata": {},
   "outputs": [],
   "source": [
    "comment_counts = pd.DataFrame(df[\"title\"].value_counts())\n",
    "rare_movies = comment_counts[comment_counts[\"title\"] <= 10000].index\n",
    "common_movies = df[~df[\"title\"].isin(rare_movies)]\n",
    "user_movie_df = common_movies.pivot_table(index=[\"userId\"], columns=[\"title\"], values=\"rating\")"
   ]
  },
  {
   "cell_type": "code",
   "execution_count": 42,
   "metadata": {},
   "outputs": [],
   "source": [
    "# Section II - Determining the movies watched by the user who will be recommended"
   ]
  },
  {
   "cell_type": "code",
   "execution_count": 43,
   "metadata": {},
   "outputs": [],
   "source": [
    "# Select random user\n",
    "random_user = 108170\n",
    "random_user_df = user_movie_df[user_movie_df.index == random_user]\n",
    "movies_watched = random_user_df.columns[random_user_df.notna().any()].tolist()"
   ]
  },
  {
   "cell_type": "code",
   "execution_count": 48,
   "metadata": {},
   "outputs": [
    {
     "data": {
      "text/plain": [
       "139"
      ]
     },
     "execution_count": 48,
     "metadata": {},
     "output_type": "execute_result"
    }
   ],
   "source": [
    "# 139 movies watched\n",
    "len(movies_watched)"
   ]
  },
  {
   "cell_type": "markdown",
   "metadata": {},
   "source": [
    "# Section III - Access data and Ids of other users watching the same movies"
   ]
  },
  {
   "cell_type": "code",
   "execution_count": 49,
   "metadata": {},
   "outputs": [],
   "source": [
    "movies_watched_df = user_movie_df[movies_watched]\n",
    "user_movie_count = movies_watched_df.T.notnull().sum()\n",
    "user_movie_count = user_movie_count.reset_index()"
   ]
  },
  {
   "cell_type": "code",
   "execution_count": 50,
   "metadata": {},
   "outputs": [
    {
     "data": {
      "text/html": [
       "<div>\n",
       "<style scoped>\n",
       "    .dataframe tbody tr th:only-of-type {\n",
       "        vertical-align: middle;\n",
       "    }\n",
       "\n",
       "    .dataframe tbody tr th {\n",
       "        vertical-align: top;\n",
       "    }\n",
       "\n",
       "    .dataframe thead th {\n",
       "        text-align: right;\n",
       "    }\n",
       "</style>\n",
       "<table border=\"1\" class=\"dataframe\">\n",
       "  <thead>\n",
       "    <tr style=\"text-align: right;\">\n",
       "      <th></th>\n",
       "      <th>userId</th>\n",
       "      <th>movie_count</th>\n",
       "    </tr>\n",
       "  </thead>\n",
       "  <tbody>\n",
       "    <tr>\n",
       "      <th>0</th>\n",
       "      <td>1.0</td>\n",
       "      <td>47</td>\n",
       "    </tr>\n",
       "    <tr>\n",
       "      <th>1</th>\n",
       "      <td>2.0</td>\n",
       "      <td>10</td>\n",
       "    </tr>\n",
       "    <tr>\n",
       "      <th>2</th>\n",
       "      <td>3.0</td>\n",
       "      <td>43</td>\n",
       "    </tr>\n",
       "    <tr>\n",
       "      <th>3</th>\n",
       "      <td>4.0</td>\n",
       "      <td>4</td>\n",
       "    </tr>\n",
       "    <tr>\n",
       "      <th>4</th>\n",
       "      <td>5.0</td>\n",
       "      <td>15</td>\n",
       "    </tr>\n",
       "  </tbody>\n",
       "</table>\n",
       "</div>"
      ],
      "text/plain": [
       "   userId  movie_count\n",
       "0     1.0           47\n",
       "1     2.0           10\n",
       "2     3.0           43\n",
       "3     4.0            4\n",
       "4     5.0           15"
      ]
     },
     "execution_count": 50,
     "metadata": {},
     "output_type": "execute_result"
    }
   ],
   "source": [
    "user_movie_count.columns = [\"userId\", \"movie_count\"]\n",
    "user_movie_count.head()"
   ]
  },
  {
   "cell_type": "code",
   "execution_count": 51,
   "metadata": {},
   "outputs": [],
   "source": [
    "# 60% of the 186 movies watched by the user (i.e. 111)\n",
    "perc = len(movies_watched) * 60 / 100"
   ]
  },
  {
   "cell_type": "code",
   "execution_count": 52,
   "metadata": {},
   "outputs": [
    {
     "data": {
      "text/plain": [
       "57      58.0\n",
       "90      91.0\n",
       "115    116.0\n",
       "146    147.0\n",
       "155    156.0\n",
       "Name: userId, dtype: float64"
      ]
     },
     "execution_count": 52,
     "metadata": {},
     "output_type": "execute_result"
    }
   ],
   "source": [
    "users_same_movies = user_movie_count[user_movie_count[\"movie_count\"] > perc][\"userId\"]\n",
    "users_same_movies.head()"
   ]
  },
  {
   "cell_type": "code",
   "execution_count": 53,
   "metadata": {},
   "outputs": [
    {
     "data": {
      "text/plain": [
       "58.0        1\n",
       "91994.0     1\n",
       "92362.0     1\n",
       "92269.0     1\n",
       "92260.0     1\n",
       "           ..\n",
       "45919.0     1\n",
       "45891.0     1\n",
       "45874.0     1\n",
       "45815.0     1\n",
       "138411.0    1\n",
       "Name: userId, Length: 4902, dtype: int64"
      ]
     },
     "execution_count": 53,
     "metadata": {},
     "output_type": "execute_result"
    }
   ],
   "source": [
    "# 2326 people watched a movie with a random user.\n",
    "# Control all values unique\n",
    "users_same_movies.value_counts()"
   ]
  },
  {
   "cell_type": "markdown",
   "metadata": {},
   "source": [
    "# Section IV - Identifying the most similar users to the user who will be recommended"
   ]
  },
  {
   "cell_type": "code",
   "execution_count": 54,
   "metadata": {},
   "outputs": [],
   "source": [
    "final_df = movies_watched_df[movies_watched_df.index.isin(users_same_movies)]"
   ]
  },
  {
   "cell_type": "code",
   "execution_count": 55,
   "metadata": {},
   "outputs": [
    {
     "data": {
      "text/html": [
       "<div>\n",
       "<style scoped>\n",
       "    .dataframe tbody tr th:only-of-type {\n",
       "        vertical-align: middle;\n",
       "    }\n",
       "\n",
       "    .dataframe tbody tr th {\n",
       "        vertical-align: top;\n",
       "    }\n",
       "\n",
       "    .dataframe thead th {\n",
       "        text-align: right;\n",
       "    }\n",
       "</style>\n",
       "<table border=\"1\" class=\"dataframe\">\n",
       "  <thead>\n",
       "    <tr style=\"text-align: right;\">\n",
       "      <th></th>\n",
       "      <th>user_id_1</th>\n",
       "      <th>user_id_2</th>\n",
       "      <th>corr</th>\n",
       "    </tr>\n",
       "  </thead>\n",
       "  <tbody>\n",
       "    <tr>\n",
       "      <th>0</th>\n",
       "      <td>21853.0</td>\n",
       "      <td>79828.0</td>\n",
       "      <td>-0.592080</td>\n",
       "    </tr>\n",
       "    <tr>\n",
       "      <th>1</th>\n",
       "      <td>79828.0</td>\n",
       "      <td>21853.0</td>\n",
       "      <td>-0.592080</td>\n",
       "    </tr>\n",
       "    <tr>\n",
       "      <th>2</th>\n",
       "      <td>72838.0</td>\n",
       "      <td>110130.0</td>\n",
       "      <td>-0.580457</td>\n",
       "    </tr>\n",
       "    <tr>\n",
       "      <th>3</th>\n",
       "      <td>110130.0</td>\n",
       "      <td>72838.0</td>\n",
       "      <td>-0.580457</td>\n",
       "    </tr>\n",
       "    <tr>\n",
       "      <th>4</th>\n",
       "      <td>56879.0</td>\n",
       "      <td>62340.0</td>\n",
       "      <td>-0.576827</td>\n",
       "    </tr>\n",
       "  </tbody>\n",
       "</table>\n",
       "</div>"
      ],
      "text/plain": [
       "   user_id_1  user_id_2      corr\n",
       "0    21853.0    79828.0 -0.592080\n",
       "1    79828.0    21853.0 -0.592080\n",
       "2    72838.0   110130.0 -0.580457\n",
       "3   110130.0    72838.0 -0.580457\n",
       "4    56879.0    62340.0 -0.576827"
      ]
     },
     "execution_count": 55,
     "metadata": {},
     "output_type": "execute_result"
    }
   ],
   "source": [
    "corr_df = final_df.T.corr().unstack().sort_values()\n",
    "corr_df = pd.DataFrame(corr_df, columns=[\"corr\"])\n",
    "corr_df.index.names = ['user_id_1', 'user_id_2']\n",
    "corr_df = corr_df.reset_index()\n",
    "corr_df.head()"
   ]
  },
  {
   "cell_type": "code",
   "execution_count": 56,
   "metadata": {},
   "outputs": [],
   "source": [
    "top_users = corr_df[(corr_df[\"user_id_1\"] == random_user) & \n",
    "                    (corr_df[\"corr\"] >= 0.65) & \n",
    "                    (corr_df[\"user_id_2\"] != random_user)].reset_index(drop=True)\n"
   ]
  },
  {
   "cell_type": "code",
   "execution_count": 57,
   "metadata": {},
   "outputs": [
    {
     "data": {
      "text/html": [
       "<div>\n",
       "<style scoped>\n",
       "    .dataframe tbody tr th:only-of-type {\n",
       "        vertical-align: middle;\n",
       "    }\n",
       "\n",
       "    .dataframe tbody tr th {\n",
       "        vertical-align: top;\n",
       "    }\n",
       "\n",
       "    .dataframe thead th {\n",
       "        text-align: right;\n",
       "    }\n",
       "</style>\n",
       "<table border=\"1\" class=\"dataframe\">\n",
       "  <thead>\n",
       "    <tr style=\"text-align: right;\">\n",
       "      <th></th>\n",
       "      <th>user_id_1</th>\n",
       "      <th>userId</th>\n",
       "      <th>corr</th>\n",
       "    </tr>\n",
       "  </thead>\n",
       "  <tbody>\n",
       "    <tr>\n",
       "      <th>23</th>\n",
       "      <td>108170.0</td>\n",
       "      <td>89195.0</td>\n",
       "      <td>0.737658</td>\n",
       "    </tr>\n",
       "    <tr>\n",
       "      <th>22</th>\n",
       "      <td>108170.0</td>\n",
       "      <td>11517.0</td>\n",
       "      <td>0.719326</td>\n",
       "    </tr>\n",
       "    <tr>\n",
       "      <th>21</th>\n",
       "      <td>108170.0</td>\n",
       "      <td>5155.0</td>\n",
       "      <td>0.710507</td>\n",
       "    </tr>\n",
       "    <tr>\n",
       "      <th>20</th>\n",
       "      <td>108170.0</td>\n",
       "      <td>121747.0</td>\n",
       "      <td>0.704917</td>\n",
       "    </tr>\n",
       "    <tr>\n",
       "      <th>19</th>\n",
       "      <td>108170.0</td>\n",
       "      <td>82860.0</td>\n",
       "      <td>0.702602</td>\n",
       "    </tr>\n",
       "    <tr>\n",
       "      <th>18</th>\n",
       "      <td>108170.0</td>\n",
       "      <td>44435.0</td>\n",
       "      <td>0.694021</td>\n",
       "    </tr>\n",
       "    <tr>\n",
       "      <th>17</th>\n",
       "      <td>108170.0</td>\n",
       "      <td>23753.0</td>\n",
       "      <td>0.685583</td>\n",
       "    </tr>\n",
       "    <tr>\n",
       "      <th>16</th>\n",
       "      <td>108170.0</td>\n",
       "      <td>89202.0</td>\n",
       "      <td>0.678307</td>\n",
       "    </tr>\n",
       "    <tr>\n",
       "      <th>15</th>\n",
       "      <td>108170.0</td>\n",
       "      <td>42497.0</td>\n",
       "      <td>0.677204</td>\n",
       "    </tr>\n",
       "    <tr>\n",
       "      <th>14</th>\n",
       "      <td>108170.0</td>\n",
       "      <td>79270.0</td>\n",
       "      <td>0.674767</td>\n",
       "    </tr>\n",
       "    <tr>\n",
       "      <th>13</th>\n",
       "      <td>108170.0</td>\n",
       "      <td>119285.0</td>\n",
       "      <td>0.673298</td>\n",
       "    </tr>\n",
       "    <tr>\n",
       "      <th>12</th>\n",
       "      <td>108170.0</td>\n",
       "      <td>47695.0</td>\n",
       "      <td>0.670768</td>\n",
       "    </tr>\n",
       "    <tr>\n",
       "      <th>11</th>\n",
       "      <td>108170.0</td>\n",
       "      <td>127683.0</td>\n",
       "      <td>0.666086</td>\n",
       "    </tr>\n",
       "    <tr>\n",
       "      <th>10</th>\n",
       "      <td>108170.0</td>\n",
       "      <td>115376.0</td>\n",
       "      <td>0.663937</td>\n",
       "    </tr>\n",
       "    <tr>\n",
       "      <th>9</th>\n",
       "      <td>108170.0</td>\n",
       "      <td>82739.0</td>\n",
       "      <td>0.663812</td>\n",
       "    </tr>\n",
       "    <tr>\n",
       "      <th>8</th>\n",
       "      <td>108170.0</td>\n",
       "      <td>28051.0</td>\n",
       "      <td>0.662415</td>\n",
       "    </tr>\n",
       "    <tr>\n",
       "      <th>7</th>\n",
       "      <td>108170.0</td>\n",
       "      <td>107904.0</td>\n",
       "      <td>0.661399</td>\n",
       "    </tr>\n",
       "    <tr>\n",
       "      <th>6</th>\n",
       "      <td>108170.0</td>\n",
       "      <td>137993.0</td>\n",
       "      <td>0.660388</td>\n",
       "    </tr>\n",
       "    <tr>\n",
       "      <th>5</th>\n",
       "      <td>108170.0</td>\n",
       "      <td>102950.0</td>\n",
       "      <td>0.659686</td>\n",
       "    </tr>\n",
       "    <tr>\n",
       "      <th>4</th>\n",
       "      <td>108170.0</td>\n",
       "      <td>122609.0</td>\n",
       "      <td>0.657765</td>\n",
       "    </tr>\n",
       "    <tr>\n",
       "      <th>3</th>\n",
       "      <td>108170.0</td>\n",
       "      <td>101155.0</td>\n",
       "      <td>0.657527</td>\n",
       "    </tr>\n",
       "    <tr>\n",
       "      <th>2</th>\n",
       "      <td>108170.0</td>\n",
       "      <td>96796.0</td>\n",
       "      <td>0.653948</td>\n",
       "    </tr>\n",
       "    <tr>\n",
       "      <th>1</th>\n",
       "      <td>108170.0</td>\n",
       "      <td>126304.0</td>\n",
       "      <td>0.653195</td>\n",
       "    </tr>\n",
       "    <tr>\n",
       "      <th>0</th>\n",
       "      <td>108170.0</td>\n",
       "      <td>51693.0</td>\n",
       "      <td>0.652355</td>\n",
       "    </tr>\n",
       "  </tbody>\n",
       "</table>\n",
       "</div>"
      ],
      "text/plain": [
       "    user_id_1    userId      corr\n",
       "23   108170.0   89195.0  0.737658\n",
       "22   108170.0   11517.0  0.719326\n",
       "21   108170.0    5155.0  0.710507\n",
       "20   108170.0  121747.0  0.704917\n",
       "19   108170.0   82860.0  0.702602\n",
       "18   108170.0   44435.0  0.694021\n",
       "17   108170.0   23753.0  0.685583\n",
       "16   108170.0   89202.0  0.678307\n",
       "15   108170.0   42497.0  0.677204\n",
       "14   108170.0   79270.0  0.674767\n",
       "13   108170.0  119285.0  0.673298\n",
       "12   108170.0   47695.0  0.670768\n",
       "11   108170.0  127683.0  0.666086\n",
       "10   108170.0  115376.0  0.663937\n",
       "9    108170.0   82739.0  0.663812\n",
       "8    108170.0   28051.0  0.662415\n",
       "7    108170.0  107904.0  0.661399\n",
       "6    108170.0  137993.0  0.660388\n",
       "5    108170.0  102950.0  0.659686\n",
       "4    108170.0  122609.0  0.657765\n",
       "3    108170.0  101155.0  0.657527\n",
       "2    108170.0   96796.0  0.653948\n",
       "1    108170.0  126304.0  0.653195\n",
       "0    108170.0   51693.0  0.652355"
      ]
     },
     "execution_count": 57,
     "metadata": {},
     "output_type": "execute_result"
    }
   ],
   "source": [
    "top_users = top_users.sort_values(by='corr', ascending=False)\n",
    "top_users.shape\n",
    "top_users[\"user_id_2\"].value_counts()\n",
    "top_users.rename(columns={\"user_id_2\": \"userId\"}, inplace=True)\n",
    "\n",
    "# There were 24 people with a correlation greater than 65%. Their ids and correlations\n",
    "top_users"
   ]
  },
  {
   "cell_type": "code",
   "execution_count": 62,
   "metadata": {},
   "outputs": [
    {
     "data": {
      "text/plain": [
       "(15419, 5)"
      ]
     },
     "execution_count": 62,
     "metadata": {},
     "output_type": "execute_result"
    }
   ],
   "source": [
    "rating = pd.read_csv('datasets/movie_lens_dataset/rating.csv')\n",
    "top_users_ratings = top_users.merge(rating[[\"userId\", \"movieId\", \"rating\"]], how='inner')\n",
    "top_users_ratings.head()\n",
    "top_users_ratings.shape"
   ]
  },
  {
   "cell_type": "markdown",
   "metadata": {},
   "source": [
    "# Section V - Calculating the Weighted Average Recommendation Score"
   ]
  },
  {
   "cell_type": "code",
   "execution_count": 63,
   "metadata": {},
   "outputs": [
    {
     "data": {
      "text/html": [
       "<div>\n",
       "<style scoped>\n",
       "    .dataframe tbody tr th:only-of-type {\n",
       "        vertical-align: middle;\n",
       "    }\n",
       "\n",
       "    .dataframe tbody tr th {\n",
       "        vertical-align: top;\n",
       "    }\n",
       "\n",
       "    .dataframe thead th {\n",
       "        text-align: right;\n",
       "    }\n",
       "</style>\n",
       "<table border=\"1\" class=\"dataframe\">\n",
       "  <thead>\n",
       "    <tr style=\"text-align: right;\">\n",
       "      <th></th>\n",
       "      <th>weighted_rating</th>\n",
       "    </tr>\n",
       "    <tr>\n",
       "      <th>movieId</th>\n",
       "      <th></th>\n",
       "    </tr>\n",
       "  </thead>\n",
       "  <tbody>\n",
       "    <tr>\n",
       "      <th>1</th>\n",
       "      <td>1.980258</td>\n",
       "    </tr>\n",
       "    <tr>\n",
       "      <th>2</th>\n",
       "      <td>1.275607</td>\n",
       "    </tr>\n",
       "    <tr>\n",
       "      <th>3</th>\n",
       "      <td>1.879999</td>\n",
       "    </tr>\n",
       "    <tr>\n",
       "      <th>5</th>\n",
       "      <td>1.729232</td>\n",
       "    </tr>\n",
       "    <tr>\n",
       "      <th>6</th>\n",
       "      <td>2.844900</td>\n",
       "    </tr>\n",
       "    <tr>\n",
       "      <th>...</th>\n",
       "      <td>...</td>\n",
       "    </tr>\n",
       "    <tr>\n",
       "      <th>116797</th>\n",
       "      <td>2.630109</td>\n",
       "    </tr>\n",
       "    <tr>\n",
       "      <th>116823</th>\n",
       "      <td>1.798314</td>\n",
       "    </tr>\n",
       "    <tr>\n",
       "      <th>116887</th>\n",
       "      <td>2.157977</td>\n",
       "    </tr>\n",
       "    <tr>\n",
       "      <th>117133</th>\n",
       "      <td>2.877303</td>\n",
       "    </tr>\n",
       "    <tr>\n",
       "      <th>118696</th>\n",
       "      <td>1.900898</td>\n",
       "    </tr>\n",
       "  </tbody>\n",
       "</table>\n",
       "<p>3495 rows × 1 columns</p>\n",
       "</div>"
      ],
      "text/plain": [
       "         weighted_rating\n",
       "movieId                 \n",
       "1               1.980258\n",
       "2               1.275607\n",
       "3               1.879999\n",
       "5               1.729232\n",
       "6               2.844900\n",
       "...                  ...\n",
       "116797          2.630109\n",
       "116823          1.798314\n",
       "116887          2.157977\n",
       "117133          2.877303\n",
       "118696          1.900898\n",
       "\n",
       "[3495 rows x 1 columns]"
      ]
     },
     "execution_count": 63,
     "metadata": {},
     "output_type": "execute_result"
    }
   ],
   "source": [
    "top_users_ratings['weighted_rating'] = top_users_ratings['corr'] * top_users_ratings['rating']\n",
    "\n",
    "top_users_ratings.groupby('movieId').agg({\"weighted_rating\": \"mean\"})"
   ]
  },
  {
   "cell_type": "code",
   "execution_count": 64,
   "metadata": {},
   "outputs": [
    {
     "data": {
      "text/html": [
       "<div>\n",
       "<style scoped>\n",
       "    .dataframe tbody tr th:only-of-type {\n",
       "        vertical-align: middle;\n",
       "    }\n",
       "\n",
       "    .dataframe tbody tr th {\n",
       "        vertical-align: top;\n",
       "    }\n",
       "\n",
       "    .dataframe thead th {\n",
       "        text-align: right;\n",
       "    }\n",
       "</style>\n",
       "<table border=\"1\" class=\"dataframe\">\n",
       "  <thead>\n",
       "    <tr style=\"text-align: right;\">\n",
       "      <th></th>\n",
       "      <th>movieId</th>\n",
       "      <th>weighted_rating</th>\n",
       "    </tr>\n",
       "  </thead>\n",
       "  <tbody>\n",
       "    <tr>\n",
       "      <th>0</th>\n",
       "      <td>1</td>\n",
       "      <td>1.980258</td>\n",
       "    </tr>\n",
       "    <tr>\n",
       "      <th>1</th>\n",
       "      <td>2</td>\n",
       "      <td>1.275607</td>\n",
       "    </tr>\n",
       "    <tr>\n",
       "      <th>2</th>\n",
       "      <td>3</td>\n",
       "      <td>1.879999</td>\n",
       "    </tr>\n",
       "    <tr>\n",
       "      <th>3</th>\n",
       "      <td>5</td>\n",
       "      <td>1.729232</td>\n",
       "    </tr>\n",
       "    <tr>\n",
       "      <th>4</th>\n",
       "      <td>6</td>\n",
       "      <td>2.844900</td>\n",
       "    </tr>\n",
       "  </tbody>\n",
       "</table>\n",
       "</div>"
      ],
      "text/plain": [
       "   movieId  weighted_rating\n",
       "0        1         1.980258\n",
       "1        2         1.275607\n",
       "2        3         1.879999\n",
       "3        5         1.729232\n",
       "4        6         2.844900"
      ]
     },
     "execution_count": 64,
     "metadata": {},
     "output_type": "execute_result"
    }
   ],
   "source": [
    "recommendation_df = top_users_ratings.groupby('movieId').agg({\"weighted_rating\": \"mean\"})\n",
    "recommendation_df = recommendation_df.reset_index()\n",
    "\n",
    "recommendation_df.head()"
   ]
  },
  {
   "cell_type": "code",
   "execution_count": 66,
   "metadata": {},
   "outputs": [],
   "source": [
    "# Let's get the ones with weighted_rating greater than 3:\n",
    "recommendation_df[recommendation_df[\"weighted_rating\"] > 3]\n",
    "movies_to_be_recommend = recommendation_df[recommendation_df[\"weighted_rating\"] > 3].sort_values(\"weighted_rating\", ascending=False)[0:5]"
   ]
  },
  {
   "cell_type": "code",
   "execution_count": 67,
   "metadata": {},
   "outputs": [
    {
     "data": {
      "text/plain": [
       "Int64Index([0, 1, 2, 3, 4], dtype='int64')"
      ]
     },
     "execution_count": 67,
     "metadata": {},
     "output_type": "execute_result"
    }
   ],
   "source": [
    "movies_to_be_recommend.merge(movie[[\"movieId\", \"title\"]]).index"
   ]
  },
  {
   "cell_type": "markdown",
   "metadata": {},
   "source": [
    "# Section VI -  Item-Based Recommendation\n",
    "\n",
    "- Make an item-based recommendation based on the name of the most recent movie the user has watched and rated the highest.\n",
    "- Make 10 suggestions, \n",
    "    - 5 suggestions user-based\n",
    "    - 5 suggestions item-based"
   ]
  },
  {
   "cell_type": "code",
   "execution_count": 84,
   "metadata": {},
   "outputs": [],
   "source": [
    "user = 10845\n",
    "\n",
    "# Öneri yapılacak kullanıcının 5 puan verdiği filmlerden puanı en güncel olan filmin id'sinin alınması:\n",
    "movie_id = rating[(rating[\"userId\"] == user) & (rating[\"rating\"] == 5.0)].sort_values(by=\"timestamp\", ascending=False)[\"movieId\"][0:1].values[0]"
   ]
  },
  {
   "cell_type": "code",
   "execution_count": 85,
   "metadata": {},
   "outputs": [
    {
     "data": {
      "text/plain": [
       "title\n",
       "Ghost (1990)                   0.466227\n",
       "Pretty Woman (1990)            0.434943\n",
       "Sleepless in Seattle (1993)    0.395029\n",
       "Twister (1996)                 0.391597\n",
       "Pocahontas (1995)              0.376469\n",
       "Dirty Dancing (1987)           0.373146\n",
       "Little Mermaid, The (1989)     0.372924\n",
       "Mrs. Doubtfire (1993)          0.370549\n",
       "Speed (1994)                   0.369893\n",
       "dtype: float64"
      ]
     },
     "execution_count": 85,
     "metadata": {},
     "output_type": "execute_result"
    }
   ],
   "source": [
    "def item_based_recommender(movie_name, user_movie_df):\n",
    "    movie = user_movie_df[movie_name]\n",
    "    return user_movie_df.corrwith(movie).sort_values(ascending=False).head(10)\n",
    "\n",
    "\n",
    "movies_from_item_based = item_based_recommender(movie[movie[\"movieId\"] == movie_id][\"title\"].values[0], user_movie_df)\n",
    "# 1 to 6. 0 is the movie itself. We left it out.\n",
    "movies_from_item_based[1:11]"
   ]
  }
 ],
 "metadata": {
  "kernelspec": {
   "display_name": "Python 3.9.13 ('dsprojects')",
   "language": "python",
   "name": "python3"
  },
  "language_info": {
   "codemirror_mode": {
    "name": "ipython",
    "version": 3
   },
   "file_extension": ".py",
   "mimetype": "text/x-python",
   "name": "python",
   "nbconvert_exporter": "python",
   "pygments_lexer": "ipython3",
   "version": "3.9.13"
  },
  "orig_nbformat": 4,
  "vscode": {
   "interpreter": {
    "hash": "78fd003daa28446435b2b6538571e501a8b37e58f7b5c6cbe8ad03b3dfc8ae3a"
   }
  }
 },
 "nbformat": 4,
 "nbformat_minor": 2
}
